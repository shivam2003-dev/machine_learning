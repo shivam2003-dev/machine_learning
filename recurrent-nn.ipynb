{
 "cells": [
  {
   "cell_type": "code",
   "execution_count": 1,
   "id": "ed14bd26",
   "metadata": {
    "_cell_guid": "b1076dfc-b9ad-4769-8c92-a6c4dae69d19",
    "_uuid": "8f2839f25d086af736a60e9eeb907d3b93b6e0e5",
    "execution": {
     "iopub.execute_input": "2023-04-03T10:48:08.822329Z",
     "iopub.status.busy": "2023-04-03T10:48:08.821884Z",
     "iopub.status.idle": "2023-04-03T10:48:08.834294Z",
     "shell.execute_reply": "2023-04-03T10:48:08.832913Z"
    },
    "papermill": {
     "duration": 0.02344,
     "end_time": "2023-04-03T10:48:08.837738",
     "exception": false,
     "start_time": "2023-04-03T10:48:08.814298",
     "status": "completed"
    },
    "tags": []
   },
   "outputs": [],
   "source": [
    "# Importing the libraries\n",
    "\n",
    "import numpy as np\n",
    "\n",
    "import matplotlib.pyplot as plt\n",
    "\n",
    "import pandas as pd"
   ]
  },
  {
   "cell_type": "code",
   "execution_count": 2,
   "id": "2619f171",
   "metadata": {
    "execution": {
     "iopub.execute_input": "2023-04-03T10:48:08.850122Z",
     "iopub.status.busy": "2023-04-03T10:48:08.849635Z",
     "iopub.status.idle": "2023-04-03T10:48:08.873080Z",
     "shell.execute_reply": "2023-04-03T10:48:08.871313Z"
    },
    "papermill": {
     "duration": 0.033213,
     "end_time": "2023-04-03T10:48:08.876138",
     "exception": false,
     "start_time": "2023-04-03T10:48:08.842925",
     "status": "completed"
    },
    "tags": []
   },
   "outputs": [],
   "source": [
    "#Importing the Training Set\n",
    "\n",
    "dataset_train = pd.read_csv(\"/kaggle/input/stock-price/Google_Stock_Price_Train.csv\")\n",
    "\n",
    "training_set = dataset_train.iloc[ :, 1 : 2 ].values"
   ]
  },
  {
   "cell_type": "code",
   "execution_count": 3,
   "id": "515852c3",
   "metadata": {
    "execution": {
     "iopub.execute_input": "2023-04-03T10:48:08.886197Z",
     "iopub.status.busy": "2023-04-03T10:48:08.885561Z",
     "iopub.status.idle": "2023-04-03T10:48:10.053550Z",
     "shell.execute_reply": "2023-04-03T10:48:10.051947Z"
    },
    "papermill": {
     "duration": 1.176308,
     "end_time": "2023-04-03T10:48:10.056477",
     "exception": false,
     "start_time": "2023-04-03T10:48:08.880169",
     "status": "completed"
    },
    "tags": []
   },
   "outputs": [],
   "source": [
    "# Feature Scaling\n",
    "\n",
    "from sklearn.preprocessing import MinMaxScaler\n",
    "\n",
    "sc = MinMaxScaler(feature_range = (0, 1))\n",
    "\n",
    "training_set_scaled = sc.fit_transform(training_set)"
   ]
  },
  {
   "cell_type": "code",
   "execution_count": 4,
   "id": "3846355d",
   "metadata": {
    "execution": {
     "iopub.execute_input": "2023-04-03T10:48:10.066695Z",
     "iopub.status.busy": "2023-04-03T10:48:10.066234Z",
     "iopub.status.idle": "2023-04-03T10:48:10.077524Z",
     "shell.execute_reply": "2023-04-03T10:48:10.075738Z"
    },
    "papermill": {
     "duration": 0.019932,
     "end_time": "2023-04-03T10:48:10.080504",
     "exception": false,
     "start_time": "2023-04-03T10:48:10.060572",
     "status": "completed"
    },
    "tags": []
   },
   "outputs": [],
   "source": [
    "# Creating a data structure with one output\n",
    "\n",
    "X_train = [ ]\n",
    "\n",
    "y_train = [ ]\n",
    "\n",
    "for i in range(60, 1258):\n",
    "\n",
    "    X_train.append(training_set_scaled[i-60 : i, 0])\n",
    "\n",
    "    y_train.append(training_set_scaled[ i, 0])\n",
    "\n",
    "X_train, y_train = np.array(X_train), np.array(y_train)"
   ]
  },
  {
   "cell_type": "code",
   "execution_count": 5,
   "id": "2a596cf5",
   "metadata": {
    "execution": {
     "iopub.execute_input": "2023-04-03T10:48:10.091005Z",
     "iopub.status.busy": "2023-04-03T10:48:10.090136Z",
     "iopub.status.idle": "2023-04-03T10:48:10.096208Z",
     "shell.execute_reply": "2023-04-03T10:48:10.094862Z"
    },
    "papermill": {
     "duration": 0.014233,
     "end_time": "2023-04-03T10:48:10.098924",
     "exception": false,
     "start_time": "2023-04-03T10:48:10.084691",
     "status": "completed"
    },
    "tags": []
   },
   "outputs": [],
   "source": [
    "#Reshaping\n",
    "\n",
    "X_train = np.reshape(X_train, (X_train.shape[0], X_train.shape[1], 1 ))"
   ]
  },
  {
   "cell_type": "code",
   "execution_count": 6,
   "id": "58e86c26",
   "metadata": {
    "execution": {
     "iopub.execute_input": "2023-04-03T10:48:10.109507Z",
     "iopub.status.busy": "2023-04-03T10:48:10.109098Z",
     "iopub.status.idle": "2023-04-03T10:48:19.790050Z",
     "shell.execute_reply": "2023-04-03T10:48:19.788069Z"
    },
    "papermill": {
     "duration": 9.690394,
     "end_time": "2023-04-03T10:48:19.793394",
     "exception": false,
     "start_time": "2023-04-03T10:48:10.103000",
     "status": "completed"
    },
    "tags": []
   },
   "outputs": [],
   "source": [
    "# Importing the Keras libraries and packages\n",
    "\n",
    "from keras.models import Sequential\n",
    "\n",
    "from keras.layers import Dense\n",
    "\n",
    "from keras.layers import LSTM\n",
    "\n",
    "from keras.layers import Dropout"
   ]
  },
  {
   "cell_type": "code",
   "execution_count": 7,
   "id": "8d3e2cfe",
   "metadata": {
    "execution": {
     "iopub.execute_input": "2023-04-03T10:48:19.803784Z",
     "iopub.status.busy": "2023-04-03T10:48:19.802958Z",
     "iopub.status.idle": "2023-04-03T10:48:21.478166Z",
     "shell.execute_reply": "2023-04-03T10:48:21.476736Z"
    },
    "papermill": {
     "duration": 1.684159,
     "end_time": "2023-04-03T10:48:21.481516",
     "exception": false,
     "start_time": "2023-04-03T10:48:19.797357",
     "status": "completed"
    },
    "tags": []
   },
   "outputs": [],
   "source": [
    "# Initialising the RNN\n",
    "\n",
    "regressor = Sequential()\n",
    "\n",
    "# Step 1 – Adding the 1st LSTM layer and some dropout regularisation\n",
    "\n",
    "regressor.add(LSTM(units = 50, return_sequences = True, input_shape =(X_train.shape[1], 1)))\n",
    "\n",
    "regressor.add(Dropout(0.2))\n",
    "\n",
    "# Step 2 - Adding the 2nd LSTM layer and some dropout regularisation\n",
    "\n",
    "regressor.add(LSTM(units = 50, return_sequences = True))\n",
    "\n",
    "regressor.add(Dropout(0.2))\n",
    "\n",
    "# Step 3 - Adding the 3rd LSTM layer and some dropout regularisation\n",
    "\n",
    "regressor.add(LSTM(units = 50, return_sequences = True))\n",
    "\n",
    "regressor.add(Dropout(0.2))\n",
    "\n",
    "# Step 4 - Adding the 4th LSTM layer and some dropout regularisation\n",
    "\n",
    "regressor.add(LSTM(units = 50))\n",
    "\n",
    "regressor.add(Dropout(0.2))\n",
    "\n",
    "# Step 5 – Adding Output Layer\n",
    "\n",
    "regressor.add(Dense(units = 1))"
   ]
  },
  {
   "cell_type": "code",
   "execution_count": 8,
   "id": "b573e7ec",
   "metadata": {
    "execution": {
     "iopub.execute_input": "2023-04-03T10:48:21.491638Z",
     "iopub.status.busy": "2023-04-03T10:48:21.490747Z",
     "iopub.status.idle": "2023-04-03T10:48:21.512946Z",
     "shell.execute_reply": "2023-04-03T10:48:21.511546Z"
    },
    "papermill": {
     "duration": 0.030178,
     "end_time": "2023-04-03T10:48:21.515650",
     "exception": false,
     "start_time": "2023-04-03T10:48:21.485472",
     "status": "completed"
    },
    "tags": []
   },
   "outputs": [],
   "source": [
    "# Compiling the RNN\n",
    "\n",
    "regressor.compile(optimizer = 'adam', loss = 'mean_squared_error')"
   ]
  },
  {
   "cell_type": "code",
   "execution_count": 9,
   "id": "776b1b75",
   "metadata": {
    "execution": {
     "iopub.execute_input": "2023-04-03T10:48:21.526382Z",
     "iopub.status.busy": "2023-04-03T10:48:21.525165Z",
     "iopub.status.idle": "2023-04-03T10:49:51.295636Z",
     "shell.execute_reply": "2023-04-03T10:49:51.294218Z"
    },
    "papermill": {
     "duration": 89.807221,
     "end_time": "2023-04-03T10:49:51.327012",
     "exception": false,
     "start_time": "2023-04-03T10:48:21.519791",
     "status": "completed"
    },
    "tags": []
   },
   "outputs": [
    {
     "name": "stdout",
     "output_type": "stream",
     "text": [
      "Epoch 1/10\n",
      "38/38 [==============================] - 13s 109ms/step - loss: 0.0429\n",
      "Epoch 2/10\n",
      "38/38 [==============================] - 4s 115ms/step - loss: 0.0059\n",
      "Epoch 3/10\n",
      "38/38 [==============================] - 4s 115ms/step - loss: 0.0059\n",
      "Epoch 4/10\n",
      "38/38 [==============================] - 4s 111ms/step - loss: 0.0053\n",
      "Epoch 5/10\n",
      "38/38 [==============================] - 4s 112ms/step - loss: 0.0050\n",
      "Epoch 6/10\n",
      "38/38 [==============================] - 4s 112ms/step - loss: 0.0050\n",
      "Epoch 7/10\n",
      "38/38 [==============================] - 4s 109ms/step - loss: 0.0048\n",
      "Epoch 8/10\n",
      "38/38 [==============================] - 4s 112ms/step - loss: 0.0041\n",
      "Epoch 9/10\n",
      "38/38 [==============================] - 4s 111ms/step - loss: 0.0048\n",
      "Epoch 10/10\n",
      "38/38 [==============================] - 4s 118ms/step - loss: 0.0045\n"
     ]
    },
    {
     "data": {
      "text/plain": [
       "<keras.callbacks.History at 0x7f11d4292ad0>"
      ]
     },
     "execution_count": 9,
     "metadata": {},
     "output_type": "execute_result"
    }
   ],
   "source": [
    "regressor.fit (X_train, y_train, epochs = 10, batch_size = 32)"
   ]
  },
  {
   "cell_type": "code",
   "execution_count": 10,
   "id": "6b0c2012",
   "metadata": {
    "execution": {
     "iopub.execute_input": "2023-04-03T10:49:51.387599Z",
     "iopub.status.busy": "2023-04-03T10:49:51.387148Z",
     "iopub.status.idle": "2023-04-03T10:49:51.402526Z",
     "shell.execute_reply": "2023-04-03T10:49:51.400925Z"
    },
    "papermill": {
     "duration": 0.048422,
     "end_time": "2023-04-03T10:49:51.405316",
     "exception": false,
     "start_time": "2023-04-03T10:49:51.356894",
     "status": "completed"
    },
    "tags": []
   },
   "outputs": [],
   "source": [
    "# Getting the Real Stock Price of 2017\n",
    "\n",
    "dataset_test = pd.read_csv('/kaggle/input/stock-price/Google_Stock_Price_Test.csv')\n",
    "\n",
    "real_stock_price = dataset_test.iloc[:, 1:2].values"
   ]
  },
  {
   "cell_type": "code",
   "execution_count": 11,
   "id": "72938094",
   "metadata": {
    "execution": {
     "iopub.execute_input": "2023-04-03T10:49:51.466184Z",
     "iopub.status.busy": "2023-04-03T10:49:51.465082Z",
     "iopub.status.idle": "2023-04-03T10:49:53.260858Z",
     "shell.execute_reply": "2023-04-03T10:49:53.259477Z"
    },
    "papermill": {
     "duration": 1.829511,
     "end_time": "2023-04-03T10:49:53.263876",
     "exception": false,
     "start_time": "2023-04-03T10:49:51.434365",
     "status": "completed"
    },
    "tags": []
   },
   "outputs": [
    {
     "name": "stdout",
     "output_type": "stream",
     "text": [
      "1/1 [==============================] - 2s 2s/step\n"
     ]
    }
   ],
   "source": [
    "# Getting the Predicted Stock Price of 2017\n",
    "\n",
    "dataset_total = pd.concat((dataset_train['Open'], dataset_test['Open']), axis = 0)\n",
    "\n",
    "inputs = dataset_total[len(dataset_total) - len(dataset_test) - 60: ].values\n",
    "\n",
    "inputs = inputs.reshape( -1, 1)\n",
    "\n",
    "inputs = sc.transform(inputs)\n",
    "\n",
    "X_test = [ ]\n",
    "\n",
    "for i in range(60, 80) :\n",
    "\n",
    "    X_test.append(inputs[ i-60 : i, 0])\n",
    "\n",
    "X_test = np.array(X_test)\n",
    "\n",
    "X_test = np.reshape( X_test, (X_test.shape[0], X_test.shape[1], 1 ))\n",
    "\n",
    "predicted_stock_price = regressor.predict(X_test)\n",
    "\n",
    "predicted_stock_price = sc.inverse_transform(predicted_stock_price)"
   ]
  },
  {
   "cell_type": "code",
   "execution_count": 12,
   "id": "711017e9",
   "metadata": {
    "execution": {
     "iopub.execute_input": "2023-04-03T10:49:53.323269Z",
     "iopub.status.busy": "2023-04-03T10:49:53.322842Z",
     "iopub.status.idle": "2023-04-03T10:49:53.602297Z",
     "shell.execute_reply": "2023-04-03T10:49:53.600921Z"
    },
    "papermill": {
     "duration": 0.31272,
     "end_time": "2023-04-03T10:49:53.605264",
     "exception": false,
     "start_time": "2023-04-03T10:49:53.292544",
     "status": "completed"
    },
    "tags": []
   },
   "outputs": [
    {
     "data": {
      "image/png": "[encoded data removed]",
      "text/plain": [
       "<Figure size 640x480 with 1 Axes>"
      ]
     },
     "metadata": {},
     "output_type": "display_data"
    }
   ],
   "source": [
    "plt.plot(real_stock_price, color = 'red', label = 'Real Google Stock Price')\n",
    "\n",
    "plt.plot(predicted_stock_price, color = 'Blue', label = 'Predicted Real Google Stock Price')\n",
    "\n",
    "plt.title( 'Google Stock Price Prediction')\n",
    "\n",
    "plt.xlabel ('Time')\n",
    "\n",
    "plt.ylabel ('Google Stock Price')\n",
    "\n",
    "plt.legend()\n",
    "\n",
    "plt.show()"
   ]
  }
 ],
 "metadata": {
  "kernelspec": {
   "display_name": "Python 3",
   "language": "python",
   "name": "python3"
  },
  "language_info": {
   "codemirror_mode": {
    "name": "ipython",
    "version": 3
   },
   "file_extension": ".py",
   "mimetype": "text/x-python",
   "name": "python",
   "nbconvert_exporter": "python",
   "pygments_lexer": "ipython3",
   "version": "3.7.12"
  },
  "papermill": {
   "default_parameters": {},
   "duration": 119.9658,
   "end_time": "2023-04-03T10:49:56.737352",
   "environment_variables": {},
   "exception": null,
   "input_path": "__notebook__.ipynb",
   "output_path": "__notebook__.ipynb",
   "parameters": {},
   "start_time": "2023-04-03T10:47:56.771552",
   "version": "2.4.0"
  }
 },
 "nbformat": 4,
 "nbformat_minor": 5
}
