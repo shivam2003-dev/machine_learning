{
 "cells": [
  {
   "cell_type": "markdown",
   "id": "45ef509c",
   "metadata": {
    "id": "CazISR8X_HUG",
    "papermill": {
     "duration": 0.00605,
     "end_time": "2022-07-17T20:08:20.185726",
     "exception": false,
     "start_time": "2022-07-17T20:08:20.179676",
     "status": "completed"
    },
    "tags": []
   },
   "source": [
    "# Multiple Linear Regression"
   ]
  },
  {
   "cell_type": "markdown",
   "id": "3100e4b0",
   "metadata": {
    "id": "pOyqYHTk_Q57",
    "papermill": {
     "duration": 0.004725,
     "end_time": "2022-07-17T20:08:20.195815",
     "exception": false,
     "start_time": "2022-07-17T20:08:20.191090",
     "status": "completed"
    },
    "tags": []
   },
   "source": [
    "## Importing the libraries"
   ]
  },
  {
   "cell_type": "code",
   "execution_count": 1,
   "id": "72f50087",
   "metadata": {
    "execution": {
     "iopub.execute_input": "2022-07-17T20:08:20.208825Z",
     "iopub.status.busy": "2022-07-17T20:08:20.207916Z",
     "iopub.status.idle": "2022-07-17T20:08:20.221090Z",
     "shell.execute_reply": "2022-07-17T20:08:20.220109Z"
    },
    "id": "T_YHJjnD_Tja",
    "papermill": {
     "duration": 0.023263,
     "end_time": "2022-07-17T20:08:20.224097",
     "exception": false,
     "start_time": "2022-07-17T20:08:20.200834",
     "status": "completed"
    },
    "tags": []
   },
   "outputs": [],
   "source": [
    "import numpy as np\n",
    "import matplotlib.pyplot as plt\n",
    "import pandas as pd"
   ]
  },
  {
   "cell_type": "markdown",
   "id": "91f450b7",
   "metadata": {
    "id": "vgC61-ah_WIz",
    "papermill": {
     "duration": 0.004755,
     "end_time": "2022-07-17T20:08:20.234171",
     "exception": false,
     "start_time": "2022-07-17T20:08:20.229416",
     "status": "completed"
    },
    "tags": []
   },
   "source": [
    "## Importing the dataset"
   ]
  },
  {
   "cell_type": "code",
   "execution_count": 2,
   "id": "166c28bb",
   "metadata": {
    "execution": {
     "iopub.execute_input": "2022-07-17T20:08:20.247160Z",
     "iopub.status.busy": "2022-07-17T20:08:20.246320Z",
     "iopub.status.idle": "2022-07-17T20:08:20.271897Z",
     "shell.execute_reply": "2022-07-17T20:08:20.270618Z"
    },
    "id": "UrxyEKGn_ez7",
    "papermill": {
     "duration": 0.035332,
     "end_time": "2022-07-17T20:08:20.274918",
     "exception": false,
     "start_time": "2022-07-17T20:08:20.239586",
     "status": "completed"
    },
    "tags": []
   },
   "outputs": [],
   "source": [
    "dataset = pd.read_csv('../input/50-startupscsv/50_Startups.csv')\n",
    "X = dataset.iloc[:, :-1].values\n",
    "y = dataset.iloc[:, -1].values"
   ]
  },
  {
   "cell_type": "code",
   "execution_count": 3,
   "id": "45a884d6",
   "metadata": {
    "execution": {
     "iopub.execute_input": "2022-07-17T20:08:20.288873Z",
     "iopub.status.busy": "2022-07-17T20:08:20.288025Z",
     "iopub.status.idle": "2022-07-17T20:08:20.295143Z",
     "shell.execute_reply": "2022-07-17T20:08:20.294184Z"
    },
    "executionInfo": {
     "elapsed": 552,
     "status": "ok",
     "timestamp": 1586353652778,
     "user": {
      "displayName": "Hadelin de Ponteves",
      "photoUrl": "https://lh3.googleusercontent.com/a-/AOh14GhEuXdT7eQweUmRPW8_laJuPggSK6hfvpl5a6WBaA=s64",
      "userId": "15047218817161520419"
     },
     "user_tz": -240
    },
    "id": "GOB3QhV9B5kD",
    "outputId": "4a05377a-2db2-43fc-b824-a0710448baee",
    "papermill": {
     "duration": 0.017051,
     "end_time": "2022-07-17T20:08:20.297817",
     "exception": false,
     "start_time": "2022-07-17T20:08:20.280766",
     "status": "completed"
    },
    "tags": []
   },
   "outputs": [
    {
     "name": "stdout",
     "output_type": "stream",
     "text": [
      "[[165349.2 136897.8 471784.1 'New York']\n",
      " [162597.7 151377.59 443898.53 'California']\n",
      " [153441.51 101145.55 407934.54 'Florida']\n",
      " [144372.41 118671.85 383199.62 'New York']\n",
      " [142107.34 91391.77 366168.42 'Florida']\n",
      " [131876.9 99814.71 362861.36 'New York']\n",
      " [134615.46 147198.87 127716.82 'California']\n",
      " [130298.13 145530.06 323876.68 'Florida']\n",
      " [120542.52 148718.95 311613.29 'New York']\n",
      " [123334.88 108679.17 304981.62 'California']\n",
      " [101913.08 110594.11 229160.95 'Florida']\n",
      " [100671.96 91790.61 249744.55 'California']\n",
      " [93863.75 127320.38 249839.44 'Florida']\n",
      " [91992.39 135495.07 252664.93 'California']\n",
      " [119943.24 156547.42 256512.92 'Florida']\n",
      " [114523.61 122616.84 261776.23 'New York']\n",
      " [78013.11 121597.55 264346.06 'California']\n",
      " [94657.16 145077.58 282574.31 'New York']\n",
      " [91749.16 114175.79 294919.57 'Florida']\n",
      " [86419.7 153514.11 0.0 'New York']\n",
      " [76253.86 113867.3 298664.47 'California']\n",
      " [78389.47 153773.43 299737.29 'New York']\n",
      " [73994.56 122782.75 303319.26 'Florida']\n",
      " [67532.53 105751.03 304768.73 'Florida']\n",
      " [77044.01 99281.34 140574.81 'New York']\n",
      " [64664.71 139553.16 137962.62 'California']\n",
      " [75328.87 144135.98 134050.07 'Florida']\n",
      " [72107.6 127864.55 353183.81 'New York']\n",
      " [66051.52 182645.56 118148.2 'Florida']\n",
      " [65605.48 153032.06 107138.38 'New York']\n",
      " [61994.48 115641.28 91131.24 'Florida']\n",
      " [61136.38 152701.92 88218.23 'New York']\n",
      " [63408.86 129219.61 46085.25 'California']\n",
      " [55493.95 103057.49 214634.81 'Florida']\n",
      " [46426.07 157693.92 210797.67 'California']\n",
      " [46014.02 85047.44 205517.64 'New York']\n",
      " [28663.76 127056.21 201126.82 'Florida']\n",
      " [44069.95 51283.14 197029.42 'California']\n",
      " [20229.59 65947.93 185265.1 'New York']\n",
      " [38558.51 82982.09 174999.3 'California']\n",
      " [28754.33 118546.05 172795.67 'California']\n",
      " [27892.92 84710.77 164470.71 'Florida']\n",
      " [23640.93 96189.63 148001.11 'California']\n",
      " [15505.73 127382.3 35534.17 'New York']\n",
      " [22177.74 154806.14 28334.72 'California']\n",
      " [1000.23 124153.04 1903.93 'New York']\n",
      " [1315.46 115816.21 297114.46 'Florida']\n",
      " [0.0 135426.92 0.0 'California']\n",
      " [542.05 51743.15 0.0 'New York']\n",
      " [0.0 116983.8 45173.06 'California']]\n"
     ]
    }
   ],
   "source": [
    "print(X)"
   ]
  },
  {
   "cell_type": "markdown",
   "id": "7a2c5826",
   "metadata": {
    "id": "VadrvE7s_lS9",
    "papermill": {
     "duration": 0.004957,
     "end_time": "2022-07-17T20:08:20.308261",
     "exception": false,
     "start_time": "2022-07-17T20:08:20.303304",
     "status": "completed"
    },
    "tags": []
   },
   "source": [
    "## Encoding categorical data"
   ]
  },
  {
   "cell_type": "code",
   "execution_count": 4,
   "id": "d0a5149b",
   "metadata": {
    "execution": {
     "iopub.execute_input": "2022-07-17T20:08:20.321349Z",
     "iopub.status.busy": "2022-07-17T20:08:20.320437Z",
     "iopub.status.idle": "2022-07-17T20:08:21.657124Z",
     "shell.execute_reply": "2022-07-17T20:08:21.656149Z"
    },
    "id": "wV3fD1mbAvsh",
    "papermill": {
     "duration": 1.346219,
     "end_time": "2022-07-17T20:08:21.659803",
     "exception": false,
     "start_time": "2022-07-17T20:08:20.313584",
     "status": "completed"
    },
    "tags": []
   },
   "outputs": [],
   "source": [
    "from sklearn.compose import ColumnTransformer\n",
    "from sklearn.preprocessing import OneHotEncoder\n",
    "ct = ColumnTransformer(transformers=[('encoder', OneHotEncoder(), [3])], remainder='passthrough')\n",
    "X = np.array(ct.fit_transform(X))"
   ]
  },
  {
   "cell_type": "code",
   "execution_count": 5,
   "id": "f41202c9",
   "metadata": {
    "execution": {
     "iopub.execute_input": "2022-07-17T20:08:21.673238Z",
     "iopub.status.busy": "2022-07-17T20:08:21.671477Z",
     "iopub.status.idle": "2022-07-17T20:08:21.682406Z",
     "shell.execute_reply": "2022-07-17T20:08:21.680802Z"
    },
    "executionInfo": {
     "elapsed": 616,
     "status": "ok",
     "timestamp": 1586353657759,
     "user": {
      "displayName": "Hadelin de Ponteves",
      "photoUrl": "https://lh3.googleusercontent.com/a-/AOh14GhEuXdT7eQweUmRPW8_laJuPggSK6hfvpl5a6WBaA=s64",
      "userId": "15047218817161520419"
     },
     "user_tz": -240
    },
    "id": "4ym3HdYeCGYG",
    "outputId": "ce09e670-cf06-4a1c-f5b0-89422aae0496",
    "papermill": {
     "duration": 0.020429,
     "end_time": "2022-07-17T20:08:21.685327",
     "exception": false,
     "start_time": "2022-07-17T20:08:21.664898",
     "status": "completed"
    },
    "tags": []
   },
   "outputs": [
    {
     "name": "stdout",
     "output_type": "stream",
     "text": [
      "[[0.0 0.0 1.0 165349.2 136897.8 471784.1]\n",
      " [1.0 0.0 0.0 162597.7 151377.59 443898.53]\n",
      " [0.0 1.0 0.0 153441.51 101145.55 407934.54]\n",
      " [0.0 0.0 1.0 144372.41 118671.85 383199.62]\n",
      " [0.0 1.0 0.0 142107.34 91391.77 366168.42]\n",
      " [0.0 0.0 1.0 131876.9 99814.71 362861.36]\n",
      " [1.0 0.0 0.0 134615.46 147198.87 127716.82]\n",
      " [0.0 1.0 0.0 130298.13 145530.06 323876.68]\n",
      " [0.0 0.0 1.0 120542.52 148718.95 311613.29]\n",
      " [1.0 0.0 0.0 123334.88 108679.17 304981.62]\n",
      " [0.0 1.0 0.0 101913.08 110594.11 229160.95]\n",
      " [1.0 0.0 0.0 100671.96 91790.61 249744.55]\n",
      " [0.0 1.0 0.0 93863.75 127320.38 249839.44]\n",
      " [1.0 0.0 0.0 91992.39 135495.07 252664.93]\n",
      " [0.0 1.0 0.0 119943.24 156547.42 256512.92]\n",
      " [0.0 0.0 1.0 114523.61 122616.84 261776.23]\n",
      " [1.0 0.0 0.0 78013.11 121597.55 264346.06]\n",
      " [0.0 0.0 1.0 94657.16 145077.58 282574.31]\n",
      " [0.0 1.0 0.0 91749.16 114175.79 294919.57]\n",
      " [0.0 0.0 1.0 86419.7 153514.11 0.0]\n",
      " [1.0 0.0 0.0 76253.86 113867.3 298664.47]\n",
      " [0.0 0.0 1.0 78389.47 153773.43 299737.29]\n",
      " [0.0 1.0 0.0 73994.56 122782.75 303319.26]\n",
      " [0.0 1.0 0.0 67532.53 105751.03 304768.73]\n",
      " [0.0 0.0 1.0 77044.01 99281.34 140574.81]\n",
      " [1.0 0.0 0.0 64664.71 139553.16 137962.62]\n",
      " [0.0 1.0 0.0 75328.87 144135.98 134050.07]\n",
      " [0.0 0.0 1.0 72107.6 127864.55 353183.81]\n",
      " [0.0 1.0 0.0 66051.52 182645.56 118148.2]\n",
      " [0.0 0.0 1.0 65605.48 153032.06 107138.38]\n",
      " [0.0 1.0 0.0 61994.48 115641.28 91131.24]\n",
      " [0.0 0.0 1.0 61136.38 152701.92 88218.23]\n",
      " [1.0 0.0 0.0 63408.86 129219.61 46085.25]\n",
      " [0.0 1.0 0.0 55493.95 103057.49 214634.81]\n",
      " [1.0 0.0 0.0 46426.07 157693.92 210797.67]\n",
      " [0.0 0.0 1.0 46014.02 85047.44 205517.64]\n",
      " [0.0 1.0 0.0 28663.76 127056.21 201126.82]\n",
      " [1.0 0.0 0.0 44069.95 51283.14 197029.42]\n",
      " [0.0 0.0 1.0 20229.59 65947.93 185265.1]\n",
      " [1.0 0.0 0.0 38558.51 82982.09 174999.3]\n",
      " [1.0 0.0 0.0 28754.33 118546.05 172795.67]\n",
      " [0.0 1.0 0.0 27892.92 84710.77 164470.71]\n",
      " [1.0 0.0 0.0 23640.93 96189.63 148001.11]\n",
      " [0.0 0.0 1.0 15505.73 127382.3 35534.17]\n",
      " [1.0 0.0 0.0 22177.74 154806.14 28334.72]\n",
      " [0.0 0.0 1.0 1000.23 124153.04 1903.93]\n",
      " [0.0 1.0 0.0 1315.46 115816.21 297114.46]\n",
      " [1.0 0.0 0.0 0.0 135426.92 0.0]\n",
      " [0.0 0.0 1.0 542.05 51743.15 0.0]\n",
      " [1.0 0.0 0.0 0.0 116983.8 45173.06]]\n"
     ]
    }
   ],
   "source": [
    "print(X)"
   ]
  },
  {
   "cell_type": "markdown",
   "id": "d8cc36cd",
   "metadata": {
    "id": "WemVnqgeA70k",
    "papermill": {
     "duration": 0.004763,
     "end_time": "2022-07-17T20:08:21.695197",
     "exception": false,
     "start_time": "2022-07-17T20:08:21.690434",
     "status": "completed"
    },
    "tags": []
   },
   "source": [
    "## Splitting the dataset into the Training set and Test set"
   ]
  },
  {
   "cell_type": "code",
   "execution_count": 6,
   "id": "44318ca6",
   "metadata": {
    "execution": {
     "iopub.execute_input": "2022-07-17T20:08:21.707279Z",
     "iopub.status.busy": "2022-07-17T20:08:21.706503Z",
     "iopub.status.idle": "2022-07-17T20:08:21.769104Z",
     "shell.execute_reply": "2022-07-17T20:08:21.767856Z"
    },
    "id": "Kb_v_ae-A-20",
    "papermill": {
     "duration": 0.07208,
     "end_time": "2022-07-17T20:08:21.772288",
     "exception": false,
     "start_time": "2022-07-17T20:08:21.700208",
     "status": "completed"
    },
    "tags": []
   },
   "outputs": [],
   "source": [
    "from sklearn.model_selection import train_test_split\n",
    "X_train, X_test, y_train, y_test = train_test_split(X, y, test_size = 0.2, random_state = 0)"
   ]
  },
  {
   "cell_type": "markdown",
   "id": "67987e6e",
   "metadata": {
    "id": "k-McZVsQBINc",
    "papermill": {
     "duration": 0.004608,
     "end_time": "2022-07-17T20:08:21.781970",
     "exception": false,
     "start_time": "2022-07-17T20:08:21.777362",
     "status": "completed"
    },
    "tags": []
   },
   "source": [
    "## Training the Multiple Linear Regression model on the Training set"
   ]
  },
  {
   "cell_type": "code",
   "execution_count": 7,
   "id": "87a6529a",
   "metadata": {
    "execution": {
     "iopub.execute_input": "2022-07-17T20:08:21.793925Z",
     "iopub.status.busy": "2022-07-17T20:08:21.793318Z",
     "iopub.status.idle": "2022-07-17T20:08:21.895312Z",
     "shell.execute_reply": "2022-07-17T20:08:21.894182Z"
    },
    "executionInfo": {
     "elapsed": 757,
     "status": "ok",
     "timestamp": 1586353664008,
     "user": {
      "displayName": "Hadelin de Ponteves",
      "photoUrl": "https://lh3.googleusercontent.com/a-/AOh14GhEuXdT7eQweUmRPW8_laJuPggSK6hfvpl5a6WBaA=s64",
      "userId": "15047218817161520419"
     },
     "user_tz": -240
    },
    "id": "ywPjx0L1BMiD",
    "outputId": "099836bc-4d85-4b4f-a488-093faf02e8cb",
    "papermill": {
     "duration": 0.110894,
     "end_time": "2022-07-17T20:08:21.897690",
     "exception": false,
     "start_time": "2022-07-17T20:08:21.786796",
     "status": "completed"
    },
    "tags": []
   },
   "outputs": [
    {
     "data": {
      "text/plain": [
       "LinearRegression()"
      ]
     },
     "execution_count": 7,
     "metadata": {},
     "output_type": "execute_result"
    }
   ],
   "source": [
    "from sklearn.linear_model import LinearRegression\n",
    "regressor = LinearRegression()\n",
    "regressor.fit(X_train, y_train)"
   ]
  },
  {
   "cell_type": "markdown",
   "id": "03089ed7",
   "metadata": {
    "id": "xNkXL1YQBiBT",
    "papermill": {
     "duration": 0.005291,
     "end_time": "2022-07-17T20:08:21.908294",
     "exception": false,
     "start_time": "2022-07-17T20:08:21.903003",
     "status": "completed"
    },
    "tags": []
   },
   "source": [
    "## Predicting the Test set results"
   ]
  },
  {
   "cell_type": "code",
   "execution_count": 8,
   "id": "d18ab97d",
   "metadata": {
    "execution": {
     "iopub.execute_input": "2022-07-17T20:08:21.920499Z",
     "iopub.status.busy": "2022-07-17T20:08:21.919773Z",
     "iopub.status.idle": "2022-07-17T20:08:21.929297Z",
     "shell.execute_reply": "2022-07-17T20:08:21.928055Z"
    },
    "executionInfo": {
     "elapsed": 951,
     "status": "ok",
     "timestamp": 1586353666678,
     "user": {
      "displayName": "Hadelin de Ponteves",
      "photoUrl": "https://lh3.googleusercontent.com/a-/AOh14GhEuXdT7eQweUmRPW8_laJuPggSK6hfvpl5a6WBaA=s64",
      "userId": "15047218817161520419"
     },
     "user_tz": -240
    },
    "id": "TQKmwvtdBkyb",
    "outputId": "493436bf-a4ae-4374-ca16-0b0c25d19457",
    "papermill": {
     "duration": 0.018471,
     "end_time": "2022-07-17T20:08:21.931711",
     "exception": false,
     "start_time": "2022-07-17T20:08:21.913240",
     "status": "completed"
    },
    "tags": []
   },
   "outputs": [
    {
     "name": "stdout",
     "output_type": "stream",
     "text": [
      "[[103015.2  103282.38]\n",
      " [132582.28 144259.4 ]\n",
      " [132447.74 146121.95]\n",
      " [ 71976.1   77798.83]\n",
      " [178537.48 191050.39]\n",
      " [116161.24 105008.31]\n",
      " [ 67851.69  81229.06]\n",
      " [ 98791.73  97483.56]\n",
      " [113969.44 110352.25]\n",
      " [167921.07 166187.94]]\n"
     ]
    }
   ],
   "source": [
    "y_pred = regressor.predict(X_test)\n",
    "np.set_printoptions(precision=2)\n",
    "print(np.concatenate((y_pred.reshape(len(y_pred),1), y_test.reshape(len(y_test),1)),1))"
   ]
  }
 ],
 "metadata": {
  "kernelspec": {
   "display_name": "Python 3",
   "language": "python",
   "name": "python3"
  },
  "language_info": {
   "codemirror_mode": {
    "name": "ipython",
    "version": 3
   },
   "file_extension": ".py",
   "mimetype": "text/x-python",
   "name": "python",
   "nbconvert_exporter": "python",
   "pygments_lexer": "ipython3",
   "version": "3.7.12"
  },
  "papermill": {
   "default_parameters": {},
   "duration": 13.210503,
   "end_time": "2022-07-17T20:08:22.658787",
   "environment_variables": {},
   "exception": null,
   "input_path": "__notebook__.ipynb",
   "output_path": "__notebook__.ipynb",
   "parameters": {},
   "start_time": "2022-07-17T20:08:09.448284",
   "version": "2.3.4"
  }
 },
 "nbformat": 4,
 "nbformat_minor": 5
}
